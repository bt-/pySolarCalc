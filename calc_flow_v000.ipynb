{
 "cells": [
  {
   "cell_type": "code",
   "execution_count": 2,
   "metadata": {},
   "outputs": [],
   "source": [
    "import math as m\n",
    "import cmath as cm\n",
    "import nec_tables"
   ]
  },
  {
   "cell_type": "markdown",
   "metadata": {},
   "source": [
    "# AMBIENT TEMPERATURE"
   ]
  },
  {
   "cell_type": "code",
   "execution_count": null,
   "metadata": {},
   "outputs": [],
   "source": [
    "amb_temp = input('Enter the ASHRAE high ambient temperature (°C): ')"
   ]
  },
  {
   "cell_type": "code",
   "execution_count": null,
   "metadata": {},
   "outputs": [],
   "source": [
    "amb_temp = float(amb_temp)\n",
    "print(amb_temp)"
   ]
  },
  {
   "cell_type": "code",
   "execution_count": null,
   "metadata": {},
   "outputs": [],
   "source": [
    "amb_temp_ceil = m.ceil(amb_temp)\n",
    "print(amb_temp_ceil)"
   ]
  },
  {
   "cell_type": "markdown",
   "metadata": {},
   "source": [
    "#Need to add rooftop adder selections."
   ]
  },
  {
   "cell_type": "code",
   "execution_count": null,
   "metadata": {},
   "outputs": [],
   "source": [
    "design_temp_high = amb_temp_ceil #+ rooftop_adder"
   ]
  },
  {
   "cell_type": "markdown",
   "metadata": {},
   "source": [
    "# CONDUCTORS"
   ]
  },
  {
   "cell_type": "code",
   "execution_count": null,
   "metadata": {},
   "outputs": [],
   "source": [
    "cond_insulation_rating = int(input('Enter your conductor insulation rating (60, 75, 90): '))"
   ]
  },
  {
   "cell_type": "code",
   "execution_count": null,
   "metadata": {},
   "outputs": [],
   "source": [
    "if cond_insulation_rating == 60: \n",
    "    print('60°C Insulation Options: ',nec_tables.cond_insulation[60])\n",
    "elif cond_insulation_rating == 75: \n",
    "    print('75°C Insulation Options: ',nec_tables.cond_insulation[75])\n",
    "elif cond_insulation_rating == 90: \n",
    "    print('90°C Insulation Options: ',nec_tables.cond_insulation[90])\n",
    "else:\n",
    "    print('Error')"
   ]
  },
  {
   "cell_type": "code",
   "execution_count": null,
   "metadata": {},
   "outputs": [],
   "source": [
    "cond_insulation = input('Select the conductor insulation: ')"
   ]
  },
  {
   "cell_type": "markdown",
   "metadata": {},
   "source": [
    "#Add check for correct insulation type against dictionary."
   ]
  },
  {
   "cell_type": "code",
   "execution_count": null,
   "metadata": {},
   "outputs": [],
   "source": [
    "amb_temp_dict = nec_tables.amb_temp_derate[design_temp_high]\n",
    "print(amb_temp_dict)"
   ]
  },
  {
   "cell_type": "code",
   "execution_count": null,
   "metadata": {},
   "outputs": [],
   "source": [
    "amb_temp_derate = amb_temp_dict[cond_insulation_rating]\n",
    "print(amb_temp_derate)"
   ]
  },
  {
   "cell_type": "markdown",
   "metadata": {},
   "source": [
    "# CCC Derates"
   ]
  },
  {
   "cell_type": "code",
   "execution_count": null,
   "metadata": {},
   "outputs": [],
   "source": [
    "ccc_count = int(input('Enter the number of current-carrying conductors in raceway: '))\n",
    "print(ccc_count)\n",
    "type(ccc_count)"
   ]
  },
  {
   "cell_type": "code",
   "execution_count": null,
   "metadata": {},
   "outputs": [],
   "source": [
    "def ccc_func(cccc):\n",
    "    int(cccc)\n",
    "    if cccc <= 3:    \n",
    "        return (1.00)\n",
    "    elif cccc <= 6:  \n",
    "        return (0.80)\n",
    "    elif cccc <= 9:  \n",
    "        return (0.70)\n",
    "    elif cccc <= 20: \n",
    "        return (0.50)\n",
    "    elif cccc <= 30: \n",
    "        return (0.45)\n",
    "    elif cccc <= 40: \n",
    "        return (0.40)\n",
    "    else:            \n",
    "        return (0.35)\n"
   ]
  },
  {
   "cell_type": "code",
   "execution_count": null,
   "metadata": {},
   "outputs": [],
   "source": [
    "ccc_count_derate = ccc_func(ccc_count)\n",
    "type(ccc_count_derate)"
   ]
  },
  {
   "cell_type": "code",
   "execution_count": null,
   "metadata": {},
   "outputs": [],
   "source": [
    "print(ccc_count_derate)"
   ]
  },
  {
   "cell_type": "markdown",
   "metadata": {},
   "source": [
    "# Truncation function"
   ]
  },
  {
   "cell_type": "code",
   "execution_count": 11,
   "metadata": {},
   "outputs": [],
   "source": [
    "def truncate(number, digits):\n",
    "    float(number)\n",
    "    float(digits)\n",
    "    stepper = 10.0 ** digits\n",
    "    return (m.trunc(stepper * number) / stepper)"
   ]
  },
  {
   "cell_type": "markdown",
   "metadata": {},
   "source": [
    "# Conditions of Use Derate"
   ]
  },
  {
   "cell_type": "code",
   "execution_count": null,
   "metadata": {},
   "outputs": [],
   "source": [
    "cond_of_use = amb_temp_derate * ccc_count_derate\n",
    "print(cond_of_use)"
   ]
  },
  {
   "cell_type": "code",
   "execution_count": null,
   "metadata": {},
   "outputs": [],
   "source": [
    "cont_duty_derate = 0.8\n",
    "if cond_of_use <= cont_duty_derate:\n",
    "    ampacity_derate = cond_of_use\n",
    "else:\n",
    "    ampacity_derate = cont_duty_derate"
   ]
  },
  {
   "cell_type": "code",
   "execution_count": null,
   "metadata": {},
   "outputs": [],
   "source": [
    "ampacity_derate = truncate(ampacity_derate,4)\n",
    "print(ampacity_derate)"
   ]
  },
  {
   "cell_type": "markdown",
   "metadata": {},
   "source": [
    "#End page 1 of calculation flowchart"
   ]
  },
  {
   "cell_type": "markdown",
   "metadata": {},
   "source": [
    "# PG 2 OF CALC FLOWCHART"
   ]
  },
  {
   "cell_type": "code",
   "execution_count": 4,
   "metadata": {},
   "outputs": [
    {
     "name": "stdout",
     "output_type": "stream",
     "text": [
      "Enter the conductor current (A): 22.3333\n"
     ]
    }
   ],
   "source": [
    "current = float(input('Enter the conductor current (A): '))\n",
    "# Add error checking for number input."
   ]
  },
  {
   "cell_type": "code",
   "execution_count": 6,
   "metadata": {},
   "outputs": [
    {
     "name": "stdout",
     "output_type": "stream",
     "text": [
      "22.3333\n"
     ]
    }
   ],
   "source": [
    "print(current)"
   ]
  },
  {
   "cell_type": "code",
   "execution_count": 7,
   "metadata": {},
   "outputs": [
    {
     "name": "stdout",
     "output_type": "stream",
     "text": [
      "Is this AC or DC current?: DC\n"
     ]
    }
   ],
   "source": [
    "voltage_type = str(input('Is this AC or DC current?: '))\n",
    "if voltage_type == 'AC':\n",
    "    phase_count = int(input('Enter the number of phases (1, 2, or 3): '))\n",
    "    # Add error checking for integers: 1, 2, or 3. Possibly use a while loop.\n",
    "    design_current = current\n",
    "else:\n",
    "    phase_count = 1\n",
    "    design_current = current * 1.25"
   ]
  },
  {
   "cell_type": "code",
   "execution_count": 12,
   "metadata": {},
   "outputs": [
    {
     "name": "stdout",
     "output_type": "stream",
     "text": [
      "DC\n",
      "1\n",
      "27.91\n"
     ]
    }
   ],
   "source": [
    "design_current = truncate(design_current,2)\n",
    "print(voltage_type)\n",
    "print(phase_count)\n",
    "print(design_current)"
   ]
  },
  {
   "cell_type": "code",
   "execution_count": 13,
   "metadata": {},
   "outputs": [
    {
     "name": "stdout",
     "output_type": "stream",
     "text": [
      "Enter the conductor material (CU or AL): CU\n",
      "CU\n"
     ]
    }
   ],
   "source": [
    "cond_material = str(input('Enter the conductor material (CU or AL): '))\n",
    "print(cond_material)"
   ]
  },
  {
   "cell_type": "code",
   "execution_count": null,
   "metadata": {},
   "outputs": [],
   "source": []
  },
  {
   "cell_type": "code",
   "execution_count": 14,
   "metadata": {},
   "outputs": [
    {
     "name": "stdout",
     "output_type": "stream",
     "text": [
      "[15, 20, 25, 30, 35, 40, 45, 50, 60, 70, 80, 90, 100, 110, 125, 150, 175, 200, 225, 250, 300, 350, 400, 450, 500, 600, 700, 800, 1000, 1200, 1600, 2000, 2500, 3000, 4000, 5000, 6000]\n"
     ]
    }
   ],
   "source": [
    "ocpd_check = 0\n",
    "ocpd_check = list(nec_tables.ocpd_sizes)\n",
    "print(ocpd_check)"
   ]
  },
  {
   "cell_type": "code",
   "execution_count": 15,
   "metadata": {},
   "outputs": [
    {
     "name": "stdout",
     "output_type": "stream",
     "text": [
      "Are you using an OCPD that is not listed in NEC 240.4? (Y/N): N\n"
     ]
    }
   ],
   "source": [
    "ocpd_custom = str(input('Are you using an OCPD that is not listed in NEC 240.4? (Y/N): '))\n",
    "if ocpd_custom == 'Y':\n",
    "    custom = int(input('Enter the non-standard OCPD rating (A): '))\n",
    "    ocpd_check.insert(0,custom)\n",
    "    print(ocpd_check)\n"
   ]
  },
  {
   "cell_type": "code",
   "execution_count": 16,
   "metadata": {},
   "outputs": [
    {
     "name": "stdout",
     "output_type": "stream",
     "text": [
      "[15, 20, 25, 30, 35, 40, 45, 50, 60, 70, 80, 90, 100, 110, 125, 150, 175, 200, 225, 250, 300, 350, 400, 450, 500, 600, 700, 800, 1000, 1200, 1600, 2000, 2500, 3000, 4000, 5000, 6000]\n"
     ]
    }
   ],
   "source": [
    "ocpd_check.sort()\n",
    "print(ocpd_check)"
   ]
  },
  {
   "cell_type": "code",
   "execution_count": 17,
   "metadata": {},
   "outputs": [
    {
     "name": "stdout",
     "output_type": "stream",
     "text": [
      "37\n"
     ]
    }
   ],
   "source": [
    "list_range = len(ocpd_check)\n",
    "print(list_range)"
   ]
  },
  {
   "cell_type": "code",
   "execution_count": 25,
   "metadata": {},
   "outputs": [],
   "source": [
    "for i in ocpd_check:\n",
    "    if ocpd_check[i] >= (design_current * 1.25):\n",
    "        ocpd_rating = ocpd_check[i]\n",
    "        break"
   ]
  },
  {
   "cell_type": "code",
   "execution_count": 26,
   "metadata": {},
   "outputs": [
    {
     "name": "stdout",
     "output_type": "stream",
     "text": [
      "27.91\n",
      "34.8875\n",
      "150\n"
     ]
    }
   ],
   "source": [
    "print(design_current)\n",
    "print(design_current * 1.25)\n",
    "print(ocpd_rating)"
   ]
  },
  {
   "cell_type": "code",
   "execution_count": null,
   "metadata": {},
   "outputs": [],
   "source": []
  }
 ],
 "metadata": {
  "kernelspec": {
   "display_name": "Python 3",
   "language": "python",
   "name": "python3"
  },
  "language_info": {
   "codemirror_mode": {
    "name": "ipython",
    "version": 3
   },
   "file_extension": ".py",
   "mimetype": "text/x-python",
   "name": "python",
   "nbconvert_exporter": "python",
   "pygments_lexer": "ipython3",
   "version": "3.7.4"
  }
 },
 "nbformat": 4,
 "nbformat_minor": 2
}
