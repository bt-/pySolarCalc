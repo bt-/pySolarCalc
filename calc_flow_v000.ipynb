{
 "cells": [
  {
   "cell_type": "code",
   "execution_count": null,
   "metadata": {},
   "outputs": [],
   "source": [
    "import math as m\n",
    "import cmath as cm\n",
    "\n",
    "import nec_tables\n",
    "import osd"
   ]
  },
  {
   "cell_type": "markdown",
   "metadata": {},
   "source": [
    "# AMBIENT TEMPERATURE"
   ]
  },
  {
   "cell_type": "code",
   "execution_count": null,
   "metadata": {},
   "outputs": [],
   "source": [
    "#amb_temp = input('Enter the ASHRAE high ambient temperature (°C): ')"
   ]
  },
  {
   "cell_type": "code",
   "execution_count": null,
   "metadata": {},
   "outputs": [],
   "source": [
    "#amb_temp = float(amb_temp)"
   ]
  },
  {
   "cell_type": "code",
   "execution_count": null,
   "metadata": {},
   "outputs": [],
   "source": [
    "#amb_temp_ceil = m.ceil(amb_temp)\n",
    "#print(amb_temp_ceil)"
   ]
  },
  {
   "cell_type": "markdown",
   "metadata": {},
   "source": [
    "The above could be as simple as the below three lines for now. This will save you the trouble of typing out the input code and it stores whatever values you are using in the notebook."
   ]
  },
  {
   "cell_type": "code",
   "execution_count": null,
   "metadata": {},
   "outputs": [],
   "source": [
    "amb_temp = m.ceil(32.5)\n",
    "amb_temp"
   ]
  },
  {
   "cell_type": "markdown",
   "metadata": {},
   "source": [
    "#Need to add rooftop adder selections."
   ]
  },
  {
   "cell_type": "code",
   "execution_count": null,
   "metadata": {},
   "outputs": [],
   "source": [
    "design_temp_high = amb_temp #+ rooftop_adder"
   ]
  },
  {
   "cell_type": "markdown",
   "metadata": {},
   "source": [
    "# CONDUCTORS"
   ]
  },
  {
   "cell_type": "code",
   "execution_count": null,
   "metadata": {},
   "outputs": [],
   "source": [
    "#cond_insulation_rating = int(input('Enter your conductor insulation rating (60, 75, 90): '))"
   ]
  },
  {
   "cell_type": "code",
   "execution_count": null,
   "metadata": {},
   "outputs": [],
   "source": [
    "#if cond_insulation_rating == 60: \n",
    "#    print('60°C Insulation Options: ',nec_tables.cond_insulation[60])\n",
    "#elif cond_insulation_rating == 75: \n",
    "#    print('75°C Insulation Options: ',nec_tables.cond_insulation[75])\n",
    "#elif cond_insulation_rating == 90: \n",
    "#    print('90°C Insulation Options: ',nec_tables.cond_insulation[90])\n",
    "#else:\n",
    "#    print('Error')"
   ]
  },
  {
   "cell_type": "code",
   "execution_count": null,
   "metadata": {},
   "outputs": [],
   "source": [
    "#cond_insulation = input('Select the conductor insulation: ')"
   ]
  },
  {
   "cell_type": "markdown",
   "metadata": {},
   "source": [
    "#Add check for correct insulation type against dictionary."
   ]
  },
  {
   "cell_type": "markdown",
   "metadata": {},
   "source": [
    "A more efficient way to prototype the above section might be something like this the below. The if statement is unnecessary - you can use the dictionary directly to acheive the same thing.  It is fine for now to allow the KeyError to surface if a non-existent insulation temperature rating is used."
   ]
  },
  {
   "cell_type": "code",
   "execution_count": null,
   "metadata": {},
   "outputs": [],
   "source": [
    "cond_insulation_rating = 75"
   ]
  },
  {
   "cell_type": "code",
   "execution_count": null,
   "metadata": {},
   "outputs": [],
   "source": [
    "cond_insulation_rating"
   ]
  },
  {
   "cell_type": "code",
   "execution_count": null,
   "metadata": {},
   "outputs": [],
   "source": [
    "nec_tables.cond_insulation[cond_insulation_rating]"
   ]
  },
  {
   "cell_type": "code",
   "execution_count": null,
   "metadata": {},
   "outputs": [],
   "source": [
    "cond_insulation = 'THWN'"
   ]
  },
  {
   "cell_type": "code",
   "execution_count": null,
   "metadata": {},
   "outputs": [],
   "source": [
    "cond_insulation"
   ]
  },
  {
   "cell_type": "code",
   "execution_count": null,
   "metadata": {},
   "outputs": [],
   "source": [
    "amb_temp_dict = nec_tables.amb_temp_derate[osd.lookup(33, nec_tables.amb_temp_derate.keys())]\n",
    "amb_temp_dict"
   ]
  },
  {
   "cell_type": "code",
   "execution_count": null,
   "metadata": {},
   "outputs": [],
   "source": [
    "amb_temp_derate = amb_temp_dict[cond_insulation_rating]\n",
    "amb_temp_derate"
   ]
  },
  {
   "cell_type": "markdown",
   "metadata": {},
   "source": [
    "# CCC Derates"
   ]
  },
  {
   "cell_type": "code",
   "execution_count": null,
   "metadata": {},
   "outputs": [],
   "source": [
    "ccc_count = 3"
   ]
  },
  {
   "cell_type": "code",
   "execution_count": null,
   "metadata": {},
   "outputs": [],
   "source": [
    "nec_tables.ccc_count_derate"
   ]
  },
  {
   "cell_type": "code",
   "execution_count": null,
   "metadata": {},
   "outputs": [],
   "source": [
    "table_key = osd.lookup(ccc_count, nec_tables.ccc_count_derate.keys())\n",
    "table_key"
   ]
  },
  {
   "cell_type": "code",
   "execution_count": null,
   "metadata": {},
   "outputs": [],
   "source": [
    "ccc_count_derate = nec_tables.ccc_count_derate[table_key]\n",
    "ccc_count_derate"
   ]
  },
  {
   "cell_type": "markdown",
   "metadata": {},
   "source": [
    "# Truncation function"
   ]
  },
  {
   "cell_type": "code",
   "execution_count": null,
   "metadata": {},
   "outputs": [],
   "source": [
    "def truncate(number, digits):\n",
    "    float(number)\n",
    "    float(digits)\n",
    "    stepper = 10.0 ** digits\n",
    "    return (m.trunc(stepper * number) / stepper)"
   ]
  },
  {
   "cell_type": "markdown",
   "metadata": {},
   "source": [
    "# Conditions of Use Derate"
   ]
  },
  {
   "cell_type": "code",
   "execution_count": null,
   "metadata": {},
   "outputs": [],
   "source": [
    "cond_of_use = amb_temp_derate * ccc_count_derate\n",
    "cond_of_use"
   ]
  },
  {
   "cell_type": "code",
   "execution_count": null,
   "metadata": {},
   "outputs": [],
   "source": [
    "cont_duty_derate = 0.8\n",
    "if cond_of_use <= cont_duty_derate:\n",
    "    ampacity_derate = cond_of_use\n",
    "else:\n",
    "    ampacity_derate = cont_duty_derate"
   ]
  },
  {
   "cell_type": "markdown",
   "metadata": {},
   "source": [
    "What is the purpose of truncating the derate?\n",
    "\n",
    "       GG - we are getting values such as 0.767000000001. Truncating keeps things clean."
   ]
  },
  {
   "cell_type": "code",
   "execution_count": null,
   "metadata": {},
   "outputs": [],
   "source": [
    "ampacity_derate = truncate(ampacity_derate,4)\n",
    "ampacity_derate"
   ]
  },
  {
   "cell_type": "markdown",
   "metadata": {},
   "source": [
    "#End page 1 of calculation flowchart"
   ]
  },
  {
   "cell_type": "markdown",
   "metadata": {},
   "source": [
    "# PG 2 OF CALC FLOWCHART\n",
    "\n",
    "I left the below untouched for now."
   ]
  },
  {
   "cell_type": "code",
   "execution_count": null,
   "metadata": {},
   "outputs": [],
   "source": [
    "#current = float(input('Enter the conductor current (A): '))\n",
    "# Add error checking for number input.\n",
    "current = 345"
   ]
  },
  {
   "cell_type": "code",
   "execution_count": null,
   "metadata": {},
   "outputs": [],
   "source": [
    "print(current)"
   ]
  },
  {
   "cell_type": "code",
   "execution_count": null,
   "metadata": {},
   "outputs": [],
   "source": [
    "voltage_type = 'AC'\n",
    "#voltage_type = str(input('Is this AC or DC current?: '))\n",
    "if voltage_type == 'AC':\n",
    "    phase_count = 3\n",
    "#    phase_count = int(input('Enter the number of phases (1, 2, or 3): '))\n",
    "    # Add error checking for integers: 1, 2, or 3. Possibly use a while loop.\n",
    "    design_current = current\n",
    "else:\n",
    "    phase_count = 1\n",
    "    design_current = current * 1.25"
   ]
  },
  {
   "cell_type": "code",
   "execution_count": null,
   "metadata": {},
   "outputs": [],
   "source": [
    "design_current = truncate(design_current,2)\n",
    "print(voltage_type)\n",
    "print(phase_count)\n",
    "print(design_current)"
   ]
  },
  {
   "cell_type": "code",
   "execution_count": null,
   "metadata": {},
   "outputs": [],
   "source": [
    "cond_material = 'CU'\n",
    "#cond_material = str(input('Enter the conductor material (CU or AL): '))\n",
    "#print(cond_material)"
   ]
  },
  {
   "cell_type": "code",
   "execution_count": null,
   "metadata": {},
   "outputs": [],
   "source": [
    "ocpd_check = 0\n",
    "ocpd_check = list(nec_tables.ocpd_sizes)\n",
    "print(ocpd_check)"
   ]
  },
  {
   "cell_type": "code",
   "execution_count": null,
   "metadata": {},
   "outputs": [],
   "source": [
    "#ocpd_custom = str(input('Are you using an OCPD that is not listed in NEC 240.4? (Y/N): '))\n",
    "#if ocpd_custom == 'Y':\n",
    "#    custom = int(input('Enter the non-standard OCPD rating (A): '))\n",
    "#    ocpd_check.insert(0,custom)\n",
    "#    print(ocpd_check)\n"
   ]
  },
  {
   "cell_type": "code",
   "execution_count": null,
   "metadata": {},
   "outputs": [],
   "source": [
    "ocpd_check.sort()\n",
    "print(ocpd_check)"
   ]
  },
  {
   "cell_type": "code",
   "execution_count": null,
   "metadata": {},
   "outputs": [],
   "source": [
    "#list_range = len(ocpd_check)\n",
    "#print(list_range)"
   ]
  },
  {
   "cell_type": "code",
   "execution_count": null,
   "metadata": {},
   "outputs": [],
   "source": [
    "for ocpd_size in ocpd_check:\n",
    "    if ocpd_size >= (design_current * 1.25):\n",
    "        ocpd_rating = ocpd_size\n",
    "        break"
   ]
  },
  {
   "cell_type": "code",
   "execution_count": null,
   "metadata": {},
   "outputs": [],
   "source": [
    "print(design_current)\n",
    "print(design_current * 1.25)\n",
    "print(ocpd_rating)"
   ]
  },
  {
   "cell_type": "code",
   "execution_count": null,
   "metadata": {},
   "outputs": [],
   "source": [
    "egc_index = list(nec_tables.egc_sizes.keys())\n",
    "print(egc_index)"
   ]
  },
  {
   "cell_type": "code",
   "execution_count": null,
   "metadata": {},
   "outputs": [],
   "source": [
    "for egc_size in egc_index:\n",
    "    if egc_size >= ocpd_rating:\n",
    "        egc_size_key = egc_size\n",
    "        break"
   ]
  },
  {
   "cell_type": "code",
   "execution_count": null,
   "metadata": {
    "scrolled": true
   },
   "outputs": [],
   "source": [
    "egc_size_key\n",
    "print(egc_size_key)"
   ]
  },
  {
   "cell_type": "code",
   "execution_count": null,
   "metadata": {},
   "outputs": [],
   "source": [
    "egc_base_size = nec_tables.egc_sizes[egc_size_key]\n",
    "egc_base_size = egc_base_size['Cu']\n",
    "egc_base_size\n",
    "print(egc_base_size)"
   ]
  },
  {
   "cell_type": "markdown",
   "metadata": {},
   "source": [
    "#End page 2 of calculation flowchart"
   ]
  },
  {
   "cell_type": "markdown",
   "metadata": {},
   "source": [
    "# PG 3 OF CALC FLOWCHART"
   ]
  },
  {
   "cell_type": "code",
   "execution_count": null,
   "metadata": {},
   "outputs": [],
   "source": []
  }
 ],
 "metadata": {
  "kernelspec": {
   "display_name": "Python 3",
   "language": "python",
   "name": "python3"
  },
  "language_info": {
   "codemirror_mode": {
    "name": "ipython",
    "version": 3
   },
   "file_extension": ".py",
   "mimetype": "text/x-python",
   "name": "python",
   "nbconvert_exporter": "python",
   "pygments_lexer": "ipython3",
   "version": "3.7.6"
  }
 },
 "nbformat": 4,
 "nbformat_minor": 2
}
