{
 "cells": [
  {
   "cell_type": "code",
   "execution_count": null,
   "metadata": {},
   "outputs": [],
   "source": [
    "import graphtik\n",
    "import math\n",
    "import operator\n",
    "import osd\n",
    "import nec_tables as nec"
   ]
  },
  {
   "cell_type": "code",
   "execution_count": null,
   "metadata": {},
   "outputs": [],
   "source": [
    "def get_wire_size(current, mat, temp):\n",
    "    table = nec.cable_ampacity_310_16[mat][temp]\n",
    "    wire_size = osd.lookup(current, table, keys=False)\n",
    "    return (wire_size, nec.cable_ampacity_310_16[mat][temp][wire_size])"
   ]
  },
  {
   "cell_type": "code",
   "execution_count": null,
   "metadata": {},
   "outputs": [],
   "source": [
    "def compare_wire_sizes(cond_a, cond_b):\n",
    "    \"\"\"\n",
    "    arguments are tuples (wire_size, ampacity)\n",
    "    \"\"\"\n",
    "    if cond_a[1] > cond_b[1]:\n",
    "        return cond_a\n",
    "    else:\n",
    "        return cond_b"
   ]
  },
  {
   "cell_type": "code",
   "execution_count": null,
   "metadata": {},
   "outputs": [],
   "source": [
    "graph = graphtik.compose('base_wire_size',\n",
    "                         graphtik.operation(name='ccc_derate', needs=['ccc_count', 'table'], provides=['ccc_derate'])(osd.lookup),\n",
    "                         graphtik.operation(name='amb_temp_derate', needs=['amb_temp', 'wire_insulation_temp'], provides=['amb_derate'])(osd.get_ambient_temp_derate),\n",
    "                         graphtik.operation(name='cond_of_use_derates', needs=['ccc_derate', 'amb_derate'], provides=['total_derate'])(operator.mul),\n",
    "                         graphtik.operation(name='current_per_conductor', needs=['current', 'parallel_conductors'], provides=['parallel_current'])(operator.mul),\n",
    "                         graphtik.operation(name='current_terminal_check', needs=['parallel_current', 'ocpd_derate'], provides=['terminal_check_current'])(operator.truediv),\n",
    "                         graphtik.operation(name='cond_use_current', needs=['total_derate', 'parallel_current'], provides=['cond_use_check_current'])(operator.mul),\n",
    "                         graphtik.operation(name='wire_size_terminal', needs=['terminal_check_current', 'wire_material', 'terminal_temp_rating'], provides=['terminal_min_wire'])(get_wire_size),\n",
    "                         graphtik.operation(name='wire_size_cond_use', needs=['cond_use_check_current', 'wire_material', 'wire_insulation_temp'], provides=['cond_use_min_wire'])(get_wire_size),\n",
    "                         graphtik.operation(name='compare_wire_sizes', needs=['terminal_min_wire', 'cond_use_min_wire'], provides=['min_wire_size'])(compare_wire_sizes)\n",
    "                        )"
   ]
  },
  {
   "cell_type": "code",
   "execution_count": null,
   "metadata": {},
   "outputs": [],
   "source": [
    "results = graph(**{'ccc_count': 4, 'table': nec.ccc_count_derate,\n",
    "                     'amb_temp': 32, 'wire_insulation_temp': 90,\n",
    "                     'current': 60, 'parallel_conductors': 1,\n",
    "                     'ocpd_derate': 0.8,\n",
    "                     'wire_material': 'Cu', 'terminal_temp_rating': 75})"
   ]
  },
  {
   "cell_type": "code",
   "execution_count": null,
   "metadata": {},
   "outputs": [],
   "source": [
    "for key, val in results.items():\n",
    "    print('{}: {}'.format(key, val))"
   ]
  },
  {
   "cell_type": "code",
   "execution_count": null,
   "metadata": {},
   "outputs": [],
   "source": [
    "graph.plot(filename='base_wire_size.pdf')"
   ]
  }
 ],
 "metadata": {
  "kernelspec": {
   "display_name": "Python 3",
   "language": "python",
   "name": "python3"
  },
  "language_info": {
   "codemirror_mode": {
    "name": "ipython",
    "version": 3
   },
   "file_extension": ".py",
   "mimetype": "text/x-python",
   "name": "python",
   "nbconvert_exporter": "python",
   "pygments_lexer": "ipython3",
   "version": "3.7.6"
  }
 },
 "nbformat": 4,
 "nbformat_minor": 4
}
