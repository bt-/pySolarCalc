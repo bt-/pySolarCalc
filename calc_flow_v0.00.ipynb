{
 "cells": [
  {
   "cell_type": "code",
   "execution_count": 33,
   "metadata": {},
   "outputs": [],
   "source": [
    "import math as m\n",
    "import cmath as cm\n",
    "import nec_tables"
   ]
  },
  {
   "cell_type": "markdown",
   "metadata": {},
   "source": [
    "# AMBIENT TEMPERATURE"
   ]
  },
  {
   "cell_type": "code",
   "execution_count": 13,
   "metadata": {},
   "outputs": [
    {
     "name": "stdout",
     "output_type": "stream",
     "text": [
      "Enter the ASHRAE high ambient temperature (°C): 35.5\n"
     ]
    }
   ],
   "source": [
    "amb_temp = input('Enter the ASHRAE high ambient temperature (°C): ')"
   ]
  },
  {
   "cell_type": "code",
   "execution_count": 14,
   "metadata": {},
   "outputs": [
    {
     "name": "stdout",
     "output_type": "stream",
     "text": [
      "35.5\n"
     ]
    }
   ],
   "source": [
    "amb_temp = float(amb_temp)\n",
    "print(amb_temp)"
   ]
  },
  {
   "cell_type": "code",
   "execution_count": 15,
   "metadata": {},
   "outputs": [
    {
     "name": "stdout",
     "output_type": "stream",
     "text": [
      "36\n"
     ]
    }
   ],
   "source": [
    "amb_temp_ceil = m.ceil(amb_temp)\n",
    "print(amb_temp_ceil)"
   ]
  },
  {
   "cell_type": "markdown",
   "metadata": {},
   "source": [
    "#Need to add rooftop adder selections."
   ]
  },
  {
   "cell_type": "code",
   "execution_count": 16,
   "metadata": {},
   "outputs": [],
   "source": [
    "design_temp_high = amb_temp_ceil #+ rooftop_adder"
   ]
  },
  {
   "cell_type": "markdown",
   "metadata": {},
   "source": [
    "# CONDUCTORS"
   ]
  },
  {
   "cell_type": "code",
   "execution_count": 17,
   "metadata": {},
   "outputs": [
    {
     "name": "stdout",
     "output_type": "stream",
     "text": [
      "Enter your conductor insulation rating (60, 75, 90): 75\n"
     ]
    }
   ],
   "source": [
    "cond_insulation_rating = int(input('Enter your conductor insulation rating (60, 75, 90): '))"
   ]
  },
  {
   "cell_type": "code",
   "execution_count": 18,
   "metadata": {},
   "outputs": [
    {
     "data": {
      "text/plain": [
       "int"
      ]
     },
     "execution_count": 18,
     "metadata": {},
     "output_type": "execute_result"
    }
   ],
   "source": [
    "type(cond_insulation_rating)"
   ]
  },
  {
   "cell_type": "code",
   "execution_count": 19,
   "metadata": {},
   "outputs": [
    {
     "name": "stdout",
     "output_type": "stream",
     "text": [
      "75°C Insulation Options:  {'THHW', 'USE', 'THW', 'ZW', 'XHHW', 'RHW', 'THWN'}\n"
     ]
    }
   ],
   "source": [
    "if cond_insulation_rating == 60: \n",
    "    print('60°C Insulation Options: ',nec_tables.cond_insulation[60])\n",
    "elif cond_insulation_rating == 75: \n",
    "    print('75°C Insulation Options: ',nec_tables.cond_insulation[75])\n",
    "elif cond_insulation_rating == 90: \n",
    "    print('90°C Insulation Options: ',nec_tables.cond_insulation[90])\n",
    "else:\n",
    "    print('Error')"
   ]
  },
  {
   "cell_type": "code",
   "execution_count": 20,
   "metadata": {},
   "outputs": [
    {
     "name": "stdout",
     "output_type": "stream",
     "text": [
      "Select the conductor insulation: THHW\n"
     ]
    }
   ],
   "source": [
    "cond_insulation = input('Select the conductor insulation: ')"
   ]
  },
  {
   "cell_type": "markdown",
   "metadata": {},
   "source": [
    "#Add check for correct insulation type against dictionary."
   ]
  },
  {
   "cell_type": "code",
   "execution_count": null,
   "metadata": {},
   "outputs": [],
   "source": []
  },
  {
   "cell_type": "code",
   "execution_count": 21,
   "metadata": {},
   "outputs": [
    {
     "name": "stdout",
     "output_type": "stream",
     "text": [
      "{60: 0.82, 75: 0.88, 90: 0.91}\n"
     ]
    }
   ],
   "source": [
    "amb_temp_dict = nec_tables.amb_temp_derate[design_temp_high]\n",
    "print(amb_temp_dict)"
   ]
  },
  {
   "cell_type": "code",
   "execution_count": 22,
   "metadata": {},
   "outputs": [
    {
     "data": {
      "text/plain": [
       "dict"
      ]
     },
     "execution_count": 22,
     "metadata": {},
     "output_type": "execute_result"
    }
   ],
   "source": [
    "type(amb_temp_dict)"
   ]
  },
  {
   "cell_type": "code",
   "execution_count": 23,
   "metadata": {},
   "outputs": [
    {
     "name": "stdout",
     "output_type": "stream",
     "text": [
      "0.88\n"
     ]
    }
   ],
   "source": [
    "amb_temp_derate = amb_temp_dict[cond_insulation_rating]\n",
    "print(amb_temp_derate)"
   ]
  },
  {
   "cell_type": "markdown",
   "metadata": {},
   "source": [
    "# CCC Derates"
   ]
  },
  {
   "cell_type": "code",
   "execution_count": 24,
   "metadata": {},
   "outputs": [
    {
     "name": "stdout",
     "output_type": "stream",
     "text": [
      "Enter the number of current-carrying conductors in raceway: 9\n",
      "9\n"
     ]
    },
    {
     "data": {
      "text/plain": [
       "int"
      ]
     },
     "execution_count": 24,
     "metadata": {},
     "output_type": "execute_result"
    }
   ],
   "source": [
    "ccc_count = int(input('Enter the number of current-carrying conductors in raceway: '))\n",
    "print(ccc_count)\n",
    "type(ccc_count)"
   ]
  },
  {
   "cell_type": "code",
   "execution_count": 25,
   "metadata": {},
   "outputs": [],
   "source": [
    "def ccc_func(cccc):\n",
    "    int(cccc)\n",
    "    if cccc <= 3:    \n",
    "        return (1.00)\n",
    "    elif cccc <= 6:  \n",
    "        return (0.80)\n",
    "    elif cccc <= 9:  \n",
    "        return (0.70)\n",
    "    elif cccc <= 20: \n",
    "        return (0.50)\n",
    "    elif cccc <= 30: \n",
    "        return (0.45)\n",
    "    elif cccc <= 40: \n",
    "        return (0.40)\n",
    "    else:            \n",
    "        return (0.35)\n"
   ]
  },
  {
   "cell_type": "code",
   "execution_count": 26,
   "metadata": {},
   "outputs": [
    {
     "data": {
      "text/plain": [
       "float"
      ]
     },
     "execution_count": 26,
     "metadata": {},
     "output_type": "execute_result"
    }
   ],
   "source": [
    "ccc_count_derate = ccc_func(ccc_count)\n",
    "type(ccc_count_derate)"
   ]
  },
  {
   "cell_type": "code",
   "execution_count": 27,
   "metadata": {},
   "outputs": [
    {
     "name": "stdout",
     "output_type": "stream",
     "text": [
      "0.7\n"
     ]
    }
   ],
   "source": [
    "print(ccc_count_derate)"
   ]
  },
  {
   "cell_type": "markdown",
   "metadata": {},
   "source": [
    "# Conditions of Use Derate"
   ]
  },
  {
   "cell_type": "code",
   "execution_count": 29,
   "metadata": {},
   "outputs": [
    {
     "name": "stdout",
     "output_type": "stream",
     "text": [
      "0.616\n"
     ]
    }
   ],
   "source": [
    "cond_of_use = amb_temp_derate * ccc_count_derate\n",
    "print(cond_of_use)"
   ]
  },
  {
   "cell_type": "code",
   "execution_count": 31,
   "metadata": {},
   "outputs": [],
   "source": [
    "cont_duty_derate = 0.8\n",
    "if cond_of_use <= cont_duty_derate:\n",
    "    ampacity_derate = cond_of_use\n",
    "else:\n",
    "    ampacity_derate = cont_duty_derate"
   ]
  },
  {
   "cell_type": "code",
   "execution_count": 32,
   "metadata": {},
   "outputs": [
    {
     "name": "stdout",
     "output_type": "stream",
     "text": [
      "0.616\n"
     ]
    }
   ],
   "source": [
    "print(ampacity_derate)"
   ]
  },
  {
   "cell_type": "code",
   "execution_count": null,
   "metadata": {},
   "outputs": [],
   "source": []
  }
 ],
 "metadata": {
  "kernelspec": {
   "display_name": "Python 3",
   "language": "python",
   "name": "python3"
  },
  "language_info": {
   "codemirror_mode": {
    "name": "ipython",
    "version": 3
   },
   "file_extension": ".py",
   "mimetype": "text/x-python",
   "name": "python",
   "nbconvert_exporter": "python",
   "pygments_lexer": "ipython3",
   "version": "3.7.4"
  }
 },
 "nbformat": 4,
 "nbformat_minor": 2
}
